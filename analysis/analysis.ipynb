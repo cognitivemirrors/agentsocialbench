{
 "cells": [
  {
   "cell_type": "markdown",
   "id": "c6551bb2-a21d-49c5-b6c2-a5e56ead2b5b",
   "metadata": {},
   "source": [
    "# Analysis: Agent social problem solving ability\n",
    "\n",
    "How will do current pretrained LLMs do at social problem solving?"
   ]
  },
  {
   "cell_type": "markdown",
   "id": "52a203af",
   "metadata": {},
   "source": [
    "## Run experiment"
   ]
  },
  {
   "cell_type": "code",
   "execution_count": null,
   "id": "36cb201b-7504-4289-b7f4-4eb948a342c7",
   "metadata": {},
   "outputs": [],
   "source": [
    "from pathlib import Path\n",
    "\n",
    "from src.env import Env\n",
    "from src.state import EnvState, AgentState\n",
    "from src.actionmodel import RandomActionModel\n",
    "from src.experiment import Experiment"
   ]
  },
  {
   "cell_type": "code",
   "execution_count": null,
   "id": "550c6885-fd3f-4267-a8b4-99518c973291",
   "metadata": {},
   "outputs": [],
   "source": [
    "n_agents = 4\n",
    "n_rounds = 10\n",
    "energy_usage_rate = 100\n",
    "starting_agent_energy = 300\n",
    "total_energy = n_agents * n_rounds * energy_usage_rate\n",
    "\n",
    "\n",
    "def random_strategy_env():\n",
    "    Env.register_model(model_name=\"random\", model=RandomActionModel(trxn_amount=100))\n",
    "                       \n",
    "    agents = [\n",
    "        AgentState(id=f\"agent_{i}\", energy=starting_agent_energy, model=\"random\")\n",
    "        for i in range(n_agents)\n",
    "    ]\n",
    "    env = Env(\n",
    "        EnvState(\n",
    "            available_energy=(total_energy - starting_agent_energy * n_agents),\n",
    "            energy_usage_rate=energy_usage_rate,\n",
    "            agents=agents,\n",
    "            n_rounds=n_rounds,\n",
    "            receiver_agent=agents[0].id,\n",
    "        )\n",
    "    )\n",
    "    return env\n",
    "\n",
    "\n",
    "def always_skip_strategy_env():\n",
    "    agents = [\n",
    "        AgentState(id=f\"agent_{i}\", energy=starting_agent_energy, model=\"always-skip\")\n",
    "        for i in range(n_agents)\n",
    "    ]\n",
    "    env = Env(\n",
    "        EnvState(\n",
    "            available_energy=(total_energy - starting_agent_energy * n_agents),\n",
    "            energy_usage_rate=energy_usage_rate,\n",
    "            agents=agents,\n",
    "            n_rounds=n_rounds,\n",
    "            receiver_agent=agents[0].id,\n",
    "        )\n",
    "    )\n",
    "    return env"
   ]
  },
  {
   "cell_type": "code",
   "execution_count": null,
   "id": "e85db380-e932-4b30-a6c8-5622115017c3",
   "metadata": {},
   "outputs": [],
   "source": [
    "experiment = Experiment(\n",
    "    name=\"random_vs_always_skip\",\n",
    "    n_replications=10,\n",
    "    variants={\n",
    "        \"random_strategy\": random_strategy_env,\n",
    "        \"always_skip_strategy\": always_skip_strategy_env,\n",
    "    }\n",
    ")\n",
    "\n",
    "experiment.run(log_dir=Path.cwd() / \"data/\")"
   ]
  },
  {
   "cell_type": "markdown",
   "id": "34de64a0-2dc5-4fbb-bdc0-ad1bfaa79481",
   "metadata": {},
   "source": [
    "## Analyze experiments\n",
    "\n",
    "Questions:\n",
    "- How does performance at this social game compare across action models?\n",
    "- How does the distribution of energy (across agents over time) compare across action models?\n",
    "- How does altruistic vs self-serving behaviour compare across action models?\n",
    "    - What is the rate of giving?\n",
    "    - What is the rate of taking?\n",
    "    - What is the ratio of current energy to energy given?\n",
    "    - What is the ratio of current energy to energy taken?"
   ]
  },
  {
   "cell_type": "markdown",
   "id": "6d5e54f6",
   "metadata": {},
   "source": [
    "### Read experiment data\n",
    "\n",
    "Tables:\n",
    "- ExperimentTrials:\n",
    "    - Experiment name\n",
    "    - Variant\n",
    "    - Trial\n",
    "    - Score\n",
    "    - Max score\n",
    "\n",
    "- ActionLogs:\n",
    "    - Experiment name\n",
    "    - Variant\n",
    "    - Trial\n",
    "    - Agent\n",
    "    - Round\n",
    "    - Action"
   ]
  }
 ],
 "metadata": {
  "kernelspec": {
   "display_name": "Python 3 (ipykernel)",
   "language": "python",
   "name": "python3"
  },
  "language_info": {
   "codemirror_mode": {
    "name": "ipython",
    "version": 3
   },
   "file_extension": ".py",
   "mimetype": "text/x-python",
   "name": "python",
   "nbconvert_exporter": "python",
   "pygments_lexer": "ipython3",
   "version": "3.12.9"
  }
 },
 "nbformat": 4,
 "nbformat_minor": 5
}
