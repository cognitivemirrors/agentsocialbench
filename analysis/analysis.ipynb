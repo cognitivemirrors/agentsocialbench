{
 "cells": [
  {
   "cell_type": "markdown",
   "id": "c6551bb2-a21d-49c5-b6c2-a5e56ead2b5b",
   "metadata": {},
   "source": [
    "# Analysis: Agent social problem solving ability\n",
    "\n",
    "How well do current pretrained LLMs do at social problem solving?"
   ]
  },
  {
   "cell_type": "markdown",
   "id": "52a203af",
   "metadata": {},
   "source": [
    "## Run experiment"
   ]
  },
  {
   "cell_type": "code",
   "execution_count": null,
   "id": "36cb201b-7504-4289-b7f4-4eb948a342c7",
   "metadata": {},
   "outputs": [],
   "source": [
    "from pathlib import Path\n",
    "\n",
    "from src.env import Env\n",
    "from src.state import EnvState, AgentState\n",
    "from src.actionmodel import RandomActionModel, GPT4Model, BaseActionModel\n",
    "from src.experiment import Experiment"
   ]
  },
  {
   "cell_type": "code",
   "execution_count": null,
   "id": "550c6885-fd3f-4267-a8b4-99518c973291",
   "metadata": {},
   "outputs": [],
   "source": [
    "n_agents = 4\n",
    "n_rounds = 10\n",
    "energy_usage_rate = 100\n",
    "starting_agent_energy = 300\n",
    "total_energy = n_agents * n_rounds * energy_usage_rate\n",
    "\n",
    "\n",
    "def env_factory_with_action_model(model_name: str, model: BaseActionModel | None = None):\n",
    "    if model:\n",
    "            Env.register_model(model_name=model_name, model=model)\n",
    "    def factory():\n",
    "        agents = [\n",
    "            AgentState(id=f\"agent_{i}\", energy=starting_agent_energy, model=model_name)\n",
    "            for i in range(n_agents)\n",
    "        ]\n",
    "        env = Env(\n",
    "            EnvState(\n",
    "                available_energy=(total_energy - starting_agent_energy * n_agents),\n",
    "                energy_usage_rate=energy_usage_rate,\n",
    "                agents=agents,\n",
    "                n_rounds=n_rounds,\n",
    "                receiver_agent=agents[0].id,\n",
    "            )\n",
    "        )\n",
    "        return env\n",
    "    return factory\n",
    "\n",
    "experiment = Experiment(\n",
    "    name=\"random_vs_always_skip_vs_gpt_4_1_nano\",\n",
    "    n_replications=10,\n",
    "    variants={\n",
    "        \"random_strategy\": env_factory_with_action_model(\"random\", RandomActionModel(trxn_amount=100)),\n",
    "        \"always_skip_strategy\": env_factory_with_action_model(\"always-skip\"),\n",
    "        \"gpt_4_1_nano\": env_factory_with_action_model(\"gpt-4.1-nano\", GPT4Model(model_name=\"gpt-4.1-nano-2025-04-14\")),\n",
    "        \"gpt_4_1\": env_factory_with_action_model(\"gpt-4.1\"),\n",
    "    }\n",
    ")\n"
   ]
  },
  {
   "cell_type": "code",
   "execution_count": null,
   "id": "0daa9fde",
   "metadata": {},
   "outputs": [],
   "source": [
    "# experiment.run(log_dir=Path.cwd() / \"data/\")"
   ]
  },
  {
   "cell_type": "markdown",
   "id": "34de64a0-2dc5-4fbb-bdc0-ad1bfaa79481",
   "metadata": {},
   "source": [
    "## Analyze experiments\n",
    "\n",
    "Questions:\n",
    "- How does performance at this social game compare across action models?\n",
    "- How does the distribution of energy (across agents over time) compare across action models?\n",
    "- How does altruistic vs self-serving behaviour compare across action models?\n",
    "    - What is the rate of giving?\n",
    "    - What is the rate of taking?\n",
    "    - What is the ratio of current energy to energy given?\n",
    "    - What is the ratio of current energy to energy taken?"
   ]
  },
  {
   "cell_type": "markdown",
   "id": "6d5e54f6",
   "metadata": {},
   "source": [
    "### Read experiment data\n",
    "\n",
    "Tables:\n",
    "- ExperimentTrials:\n",
    "    - Experiment name\n",
    "    - Variant\n",
    "    - Trial\n",
    "    - Score\n",
    "    - Max score\n",
    "\n",
    "- ActionLogs:\n",
    "    - Experiment name\n",
    "    - Variant\n",
    "    - Trial\n",
    "    - Agent\n",
    "    - Round\n",
    "    - Action\n",
    "    - Current energy"
   ]
  },
  {
   "cell_type": "code",
   "execution_count": null,
   "id": "5a0fc99e",
   "metadata": {},
   "outputs": [],
   "source": [
    "from src.event import EventUnion\n",
    "\n",
    "def trial_metrics(init_state: EnvState, events: list[EventUnion]):\n",
    "    from src.event import ActionEvent, StartTurnEvent, EndRoundEvent, GameOverEvent\n",
    "\n",
    "    trial_data = {\"score\": 0, \"actions\": [], \"energy_dist\": []}      \n",
    "    def log_action(state: EnvState, event: EventUnion):\n",
    "        if isinstance(event, ActionEvent):\n",
    "            agent = state.get_agent(event.agent_id)\n",
    "            if agent:\n",
    "                action_data = {\n",
    "                    \"agent_id\": event.agent_id,\n",
    "                    \"round\": state.current_round,\n",
    "                    \"action\": event.action,\n",
    "                    \"agent_energy\": agent.energy,\n",
    "                }\n",
    "                trial_data[\"actions\"].append(action_data)\n",
    "\n",
    "    def log_game_score_increment(state: EnvState, event: EventUnion):\n",
    "        if isinstance(event, StartTurnEvent):\n",
    "            trial_data[\"score\"] = trial_data.get(\"score\", 0) + 1\n",
    "\n",
    "    def log_energy_distribution(state: EnvState, event: EventUnion):\n",
    "        if isinstance(event, (EndRoundEvent, GameOverEvent)):\n",
    "            trial_data[\"energy_dist\"].append({\n",
    "                \"round\": state.current_round,\n",
    "                \"energy\": [agent.energy for agent in state.agents],\n",
    "            })\n",
    "\n",
    "    env = Env(init_state)\n",
    "    env.apply_events(\n",
    "        events,\n",
    "        pre_apply_callbacks=[\n",
    "            log_action, log_game_score_increment, log_energy_distribution\n",
    "        ]\n",
    "    )\n",
    "    \n",
    "    return trial_data"
   ]
  },
  {
   "cell_type": "code",
   "execution_count": null,
   "id": "fcc2a38e",
   "metadata": {},
   "outputs": [],
   "source": [
    "experiment_dir = Path(\"/Users/kevinchan/agentsocialbench/data/random_vs_always_skip_vs_gpt_4_1_nano_20250802151318\")\n",
    "experiment_data = experiment.experiment_results(trial_metrics, experiment_dir)"
   ]
  },
  {
   "cell_type": "markdown",
   "id": "6d133e2e",
   "metadata": {},
   "source": [
    "#### How does performance at this social game compare across action models?"
   ]
  },
  {
   "cell_type": "code",
   "execution_count": null,
   "id": "70a9ba8b",
   "metadata": {},
   "outputs": [],
   "source": [
    "import pandas as pd\n",
    "import seaborn as sns\n",
    "import matplotlib.pyplot as plt\n",
    "\n",
    "\n",
    "perf_df = pd.DataFrame(\n",
    "    [\n",
    "        {\n",
    "            \"variant\": variant_name,\n",
    "            \"trial\": trial[\"trial_num\"],\n",
    "            \"score\": trial[\"metrics\"][\"score\"],\n",
    "        }\n",
    "        for (variant_name, trials) in experiment_data[\"variants\"].items()\n",
    "        for trial in trials\n",
    "    ]\n",
    ")\n",
    "\n",
    "g = sns.catplot(perf_df, kind=\"bar\", x=\"variant\", y=\"score\")\n",
    "g.figure.subplots_adjust(top=0.9)\n",
    "g.figure.suptitle(\"Performance by strategy\");"
   ]
  },
  {
   "cell_type": "code",
   "execution_count": null,
   "id": "9eb2a3c5",
   "metadata": {},
   "outputs": [],
   "source": [
    "agent_survival_df = pd.DataFrame([\n",
    "    {\n",
    "        \"variant\": variant_name,\n",
    "        \"trial\": trial[\"trial_num\"],\n",
    "        \"round\": rnd[\"round\"],\n",
    "        \"survivor_count\": sum(1 if energy > 0 else 0 for energy in rnd[\"energy\"]),\n",
    "    }\n",
    "    for (variant_name, trials) in experiment_data[\"variants\"].items()\n",
    "    for trial in trials\n",
    "    for rnd in trial[\"metrics\"][\"energy_dist\"]\n",
    "])\n",
    "\n",
    "# plot each agent's energy over time (round) as a line (trial), faceted by strategy (col)\n",
    "g = sns.relplot(\n",
    "    agent_survival_df,\n",
    "    kind=\"line\",\n",
    "    x=\"round\",\n",
    "    y=\"survivor_count\",\n",
    "    col=\"variant\",\n",
    "    col_wrap=2,\n",
    "    units=\"trial\",\n",
    "    estimator=None,\n",
    ")\n",
    "for ax in g.axes:\n",
    "    ax.set_ylim(bottom=0)\n",
    "g.figure.subplots_adjust(top=0.9)\n",
    "g.figure.suptitle(\"Agent survival count over time across strategy variants\");"
   ]
  },
  {
   "cell_type": "markdown",
   "id": "d2a8cb27",
   "metadata": {},
   "source": [
    "### How does the distribution of energy (across agents over time) compare across action models?"
   ]
  },
  {
   "cell_type": "code",
   "execution_count": null,
   "id": "13b63773",
   "metadata": {},
   "outputs": [],
   "source": [
    "agent_energy_df = pd.DataFrame([\n",
    "    {\n",
    "        \"variant\": variant_name,\n",
    "        \"trial\": trial[\"trial_num\"],\n",
    "        \"round\": rnd[\"round\"],\n",
    "        \"agent\": i,\n",
    "        \"energy\": energy,\n",
    "    }\n",
    "    for (variant_name, trials) in experiment_data[\"variants\"].items()\n",
    "    for trial in trials\n",
    "    for rnd in trial[\"metrics\"][\"energy_dist\"]\n",
    "    for i, energy in enumerate(rnd[\"energy\"])\n",
    "])\n",
    "\n",
    "# plot each agent's energy over time (round) as a line (trial), faceted by strategy (col)\n",
    "g = sns.relplot(\n",
    "    agent_energy_df,\n",
    "    kind=\"line\",\n",
    "    x=\"round\",\n",
    "    y=\"energy\",\n",
    "    hue=\"agent\",\n",
    "    col=\"variant\",\n",
    "    col_wrap=2,\n",
    "    units=\"trial\",\n",
    "    estimator=None,\n",
    ")\n",
    "g.map(plt.axhline, y=0, ls='--', color=\"grey\")\n",
    "g.figure.subplots_adjust(top=0.9)\n",
    "g.figure.suptitle(\"Agent energy over time across strategy variants\");"
   ]
  },
  {
   "cell_type": "markdown",
   "id": "18a4f949",
   "metadata": {},
   "source": [
    "#### How does altruistic vs self-serving behaviour compare across action models?\n",
    "\n",
    "##### What is the distribution of actions across variants?"
   ]
  },
  {
   "cell_type": "code",
   "execution_count": null,
   "id": "5e9ab4d3",
   "metadata": {},
   "outputs": [],
   "source": [
    "actions_df = pd.DataFrame([\n",
    "    {\n",
    "        \"variant\": variant_name,\n",
    "        \"trial\": trial[\"trial_num\"],\n",
    "        \"round\": action[\"round\"],\n",
    "        \"agent_id\": action[\"agent_id\"],\n",
    "        \"action\": action[\"action\"].action,\n",
    "    }\n",
    "    for (variant_name, trials) in experiment_data[\"variants\"].items()\n",
    "    for trial in trials\n",
    "    for action in trial[\"metrics\"][\"actions\"]\n",
    "])\n",
    "\n",
    "action_rate_df = (\n",
    "    actions_df\n",
    "    .groupby([\"variant\", \"action\"])[\"action\"]\n",
    "    .count()\n",
    "    .rename(\"action_count\")\n",
    "    .reset_index()\n",
    "    .assign(action_rate=lambda x: x[\"action_count\"] / x.groupby([\"variant\"])[\"action_count\"].transform(\"sum\"))\n",
    ")\n",
    "\n",
    "g = sns.catplot(action_rate_df, kind=\"bar\", y=\"action_rate\", x=\"variant\", hue=\"action\")\n",
    "g.figure.subplots_adjust(top=0.9)\n",
    "g.figure.suptitle(\"Action distribution by strategy\");"
   ]
  },
  {
   "cell_type": "code",
   "execution_count": null,
   "id": "57bb7ea2",
   "metadata": {},
   "outputs": [],
   "source": [
    "action_rate_by_type_df = (\n",
    "    actions_df\n",
    "    .assign(agent_type=lambda x: x[\"agent_id\"].apply(lambda val: \"receiver\" if val == \"agent_0\" else \"other\"))\n",
    "    .groupby([\"variant\", \"agent_type\", \"action\"])[\"action\"]\n",
    "    .count()\n",
    "    .rename(\"action_count\")\n",
    "    .reset_index()\n",
    "    .assign(action_rate=lambda x: x[\"action_count\"] / x.groupby([\"variant\", \"agent_type\"])[\"action_count\"].transform(\"sum\"))\n",
    ")\n",
    "\n",
    "g = sns.catplot(action_rate_by_type_df, kind=\"bar\", y=\"action_rate\", x=\"variant\", hue=\"action\", col=\"agent_type\")\n",
    "g.figure.subplots_adjust(top=0.9)\n",
    "g.figure.suptitle(\"Action distribution by strategy\");"
   ]
  },
  {
   "cell_type": "markdown",
   "id": "6fb56fff",
   "metadata": {},
   "source": [
    "##### What is the ratio of current energy to energy given?\n",
    "When agents give energy, what is the ratio energy given / current energy?"
   ]
  },
  {
   "cell_type": "code",
   "execution_count": null,
   "id": "ed24a620",
   "metadata": {},
   "outputs": [],
   "source": [
    "give_ratio_df = pd.DataFrame([\n",
    "    {\n",
    "        \"variant\": variant_name,\n",
    "        \"trial_num\": trial[\"trial_num\"],\n",
    "        \"agent_id\": action[\"agent_id\"],\n",
    "        \"agent_type\": \"receiver\" if action[\"agent_id\"] == \"agent_0\" else \"other\",\n",
    "        \"round\": action[\"round\"],\n",
    "        \"give_amount\": action[\"action\"].amount,\n",
    "        \"agent_energy\": action[\"agent_energy\"],\n",
    "        \"give_ratio\": action[\"action\"].amount / action[\"agent_energy\"],\n",
    "    }\n",
    "    for (variant_name, trials) in experiment_data[\"variants\"].items()\n",
    "    for trial in trials\n",
    "    for action in trial[\"metrics\"][\"actions\"]\n",
    "    if action[\"action\"].action == \"give\"\n",
    "])\n",
    "\n",
    "g = sns.catplot(give_ratio_df, y=\"give_ratio\", x=\"variant\", hue=\"agent_type\")"
   ]
  },
  {
   "cell_type": "code",
   "execution_count": null,
   "id": "4f6b0eb1",
   "metadata": {},
   "outputs": [],
   "source": [
    "g = sns.catplot(give_ratio_df, y=\"agent_energy\", x=\"variant\", hue=\"agent_type\")"
   ]
  },
  {
   "cell_type": "markdown",
   "id": "8c39f2ae",
   "metadata": {},
   "source": [
    "##### What is the ratio of current energy to energy taken?\n",
    "\n",
    "When agents take energy, what is the ratio energy taken / current energy?"
   ]
  },
  {
   "cell_type": "code",
   "execution_count": null,
   "id": "4e1d8767",
   "metadata": {},
   "outputs": [],
   "source": [
    "take_ratio_df = pd.DataFrame([\n",
    "    {\n",
    "        \"variant\": variant_name,\n",
    "        \"trial_num\": trial[\"trial_num\"],\n",
    "        \"agent_id\": action[\"agent_id\"],\n",
    "        \"agent_type\": \"receiver\" if action[\"agent_id\"] == \"agent_0\" else \"other\",\n",
    "        \"round\": action[\"round\"],\n",
    "        \"take_amount\": action[\"action\"].amount,\n",
    "        \"agent_energy\": action[\"agent_energy\"],\n",
    "        \"take_ratio\": action[\"action\"].amount / action[\"agent_energy\"],\n",
    "    }\n",
    "    for (variant_name, trials) in experiment_data[\"variants\"].items()\n",
    "    for trial in trials\n",
    "    for action in trial[\"metrics\"][\"actions\"]\n",
    "    if action[\"action\"].action == \"take\"\n",
    "])\n",
    "\n",
    "g = sns.catplot(take_ratio_df, y=\"take_ratio\", x=\"variant\", hue=\"agent_type\")"
   ]
  },
  {
   "cell_type": "code",
   "execution_count": null,
   "id": "aebcc07e",
   "metadata": {},
   "outputs": [],
   "source": [
    "g = sns.catplot(take_ratio_df, y=\"agent_energy\", x=\"variant\", hue=\"agent_type\")"
   ]
  }
 ],
 "metadata": {
  "kernelspec": {
   "display_name": "Python 3 (ipykernel)",
   "language": "python",
   "name": "python3"
  },
  "language_info": {
   "codemirror_mode": {
    "name": "ipython",
    "version": 3
   },
   "file_extension": ".py",
   "mimetype": "text/x-python",
   "name": "python",
   "nbconvert_exporter": "python",
   "pygments_lexer": "ipython3",
   "version": "3.12.9"
  }
 },
 "nbformat": 4,
 "nbformat_minor": 5
}
